{
 "cells": [
  {
   "cell_type": "code",
   "execution_count": 5,
   "id": "55222d82",
   "metadata": {},
   "outputs": [
    {
     "name": "stdout",
     "output_type": "stream",
     "text": [
      "GUMMALA\n",
      "CHARAN\n",
      "KUMAR\n",
      "REDDY\n",
      "IS A DATA SCIENTIST\n"
     ]
    }
   ],
   "source": [
    "my_list = ['GUMMALA' , 'CHARAN' , 'KUMAR', 'REDDY' , 'DATA SCIENTIST']\n",
    "for i in my_list : \n",
    "    if i != 'DATA SCIENTIST' :\n",
    "        print(i)\n",
    "    else :\n",
    "        print('IS A DATA SCIENTIST')\n"
   ]
  },
  {
   "cell_type": "code",
   "execution_count": 9,
   "id": "df69b99d",
   "metadata": {},
   "outputs": [
    {
     "data": {
      "text/plain": [
       "[1, 3, 5, 7, 9]"
      ]
     },
     "execution_count": 9,
     "metadata": {},
     "output_type": "execute_result"
    }
   ],
   "source": [
    "list(range(1,10,2))"
   ]
  },
  {
   "cell_type": "code",
   "execution_count": 12,
   "id": "18eedd22",
   "metadata": {},
   "outputs": [
    {
     "name": "stdout",
     "output_type": "stream",
     "text": [
      "1 is an odd number\n",
      "3 is an odd number\n",
      "5 is an odd number\n",
      "7 is an odd number\n",
      "9 is an odd number\n"
     ]
    }
   ],
   "source": [
    "for i in range(1,10,2) :\n",
    "    if i % 2 == 0 :\n",
    "        print(f'{i} is an even number')\n",
    "    else :\n",
    "        print(f'{i} is an odd number')"
   ]
  },
  {
   "cell_type": "code",
   "execution_count": 15,
   "id": "0f5aa3c8",
   "metadata": {},
   "outputs": [
    {
     "name": "stdout",
     "output_type": "stream",
     "text": [
      "*\n",
      "\n",
      "**\n",
      "\n",
      "***\n",
      "\n",
      "****\n",
      "\n"
     ]
    }
   ],
   "source": [
    "n = 4 \n",
    "for i in range(0,4) :\n",
    "    for j in range(0,i+1) :\n",
    "        print('*',end='')\n",
    "        \n",
    "    print('\\n')\n",
    "        \n",
    "    \n",
    "    \n",
    "    "
   ]
  },
  {
   "cell_type": "code",
   "execution_count": 16,
   "id": "859c967f",
   "metadata": {},
   "outputs": [
    {
     "name": "stdout",
     "output_type": "stream",
     "text": [
      "mango\n",
      "cherry\n",
      "apple\n",
      "strawberry\n",
      "This is avocado\n"
     ]
    }
   ],
   "source": [
    "fruits_list = ['mango','cherry','apple','strawberry','avocado','grapes']\n",
    "\n",
    "for i in fruits_list : \n",
    "    if i == 'avocado' :\n",
    "        print('This is avocado')\n",
    "        break \n",
    "    else :\n",
    "        print(i)\n",
    "    "
   ]
  },
  {
   "cell_type": "code",
   "execution_count": 17,
   "id": "8a9df454",
   "metadata": {},
   "outputs": [
    {
     "name": "stdout",
     "output_type": "stream",
     "text": [
      "mango\n",
      "cherry\n",
      "apple\n",
      "strawberry\n",
      "This is avocado\n",
      "grapes\n"
     ]
    }
   ],
   "source": [
    "fruits_list = ['mango','cherry','apple','strawberry','avocado','grapes']\n",
    "\n",
    "for i in fruits_list : \n",
    "    if i == 'avocado' :\n",
    "        print('This is avocado')\n",
    "        pass \n",
    "    else :\n",
    "        print(i)"
   ]
  },
  {
   "cell_type": "code",
   "execution_count": 18,
   "id": "dbeb042f",
   "metadata": {},
   "outputs": [
    {
     "name": "stdout",
     "output_type": "stream",
     "text": [
      "mango\n",
      "cherry\n",
      "apple\n",
      "strawberry\n",
      "This is avocado\n",
      "grapes\n"
     ]
    }
   ],
   "source": [
    "fruits_list = ['mango','cherry','apple','strawberry','avocado','grapes']\n",
    "\n",
    "for i in fruits_list : \n",
    "    if i == 'avocado' :\n",
    "        print('This is avocado')\n",
    "        continue \n",
    "    else :\n",
    "        print(i)"
   ]
  },
  {
   "cell_type": "code",
   "execution_count": null,
   "id": "01a6b278",
   "metadata": {},
   "outputs": [],
   "source": []
  }
 ],
 "metadata": {
  "kernelspec": {
   "display_name": "Python 3 (ipykernel)",
   "language": "python",
   "name": "python3"
  },
  "language_info": {
   "codemirror_mode": {
    "name": "ipython",
    "version": 3
   },
   "file_extension": ".py",
   "mimetype": "text/x-python",
   "name": "python",
   "nbconvert_exporter": "python",
   "pygments_lexer": "ipython3",
   "version": "3.9.13"
  }
 },
 "nbformat": 4,
 "nbformat_minor": 5
}
