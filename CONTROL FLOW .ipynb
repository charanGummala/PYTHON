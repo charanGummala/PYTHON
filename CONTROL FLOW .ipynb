{
 "cells": [
  {
   "cell_type": "code",
   "execution_count": 10,
   "id": "f3b36bc6",
   "metadata": {},
   "outputs": [
    {
     "name": "stdout",
     "output_type": "stream",
     "text": [
      "Enter Your Age56\n",
      "Your age is 56\n"
     ]
    }
   ],
   "source": [
    "#fstrings\n",
    "age = int(input('Enter Your Age'))\n",
    "print(f'Your age is {age}')"
   ]
  },
  {
   "cell_type": "code",
   "execution_count": 14,
   "id": "1997a549",
   "metadata": {},
   "outputs": [
    {
     "name": "stdout",
     "output_type": "stream",
     "text": [
      "My name is GUMMALA CHARAN KUMAR REDDY and I am a DATA SCIENTIST\n",
      "My name is GUMMALA CHARAN KUMAR REDDY and I am a DATA SCIENTIST\n"
     ]
    }
   ],
   "source": [
    "#format \n",
    "name = 'GUMMALA CHARAN KUMAR REDDY'\n",
    "job = 'DATA SCIENTIST'\n",
    "print('My name is {} and I am a {}'.format(name,job))\n",
    "print('My name is {myName} and I am a {myJob}'.format(myJob=job,myName=name))"
   ]
  },
  {
   "cell_type": "markdown",
   "id": "52f3209c",
   "metadata": {},
   "source": [
    "# CONTROL FLOW "
   ]
  },
  {
   "cell_type": "code",
   "execution_count": 20,
   "id": "56b3b462",
   "metadata": {},
   "outputs": [
    {
     "name": "stdout",
     "output_type": "stream",
     "text": [
      "Enter your name :SHREYA\n",
      "Enter your age : 17\n",
      "Hey SHREYA,Sorry.You are not eligible to vote\n"
     ]
    }
   ],
   "source": [
    "your_name = input('Enter your name :')\n",
    "your_age = int(input('Enter your age : '))\n",
    "if your_age>=18:\n",
    "    print(f'Hey {your_name}, Congratulations.You are eligible to vote')\n",
    "else:\n",
    "    print(f'Hey {your_name},Sorry.You are not eligible to vote')"
   ]
  },
  {
   "cell_type": "code",
   "execution_count": 21,
   "id": "31466ecf",
   "metadata": {},
   "outputs": [
    {
     "name": "stdout",
     "output_type": "stream",
     "text": [
      "Enter Your Age :25\n",
      "YOU ARE YOUNG BLOOD\n"
     ]
    }
   ],
   "source": [
    "your_age = int(input('Enter Your Age :'))\n",
    "if your_age>=18 and your_age<=45:\n",
    "    print('YOU ARE YOUNG BLOOD')\n",
    "    "
   ]
  },
  {
   "cell_type": "code",
   "execution_count": 9,
   "id": "8711aa37",
   "metadata": {},
   "outputs": [
    {
     "name": "stdout",
     "output_type": "stream",
     "text": [
      "CHECK THE DISCOUNTED PRICE\n",
      "Enter the product original price :4500\n",
      "Final price is : 3600.0\n"
     ]
    }
   ],
   "source": [
    "# IN a shopping mall sale is going on.Discount rates are shown below.\n",
    "#product price >1000 : 20% , price <=1000 : 30% , price \n",
    "#Aim is to calculate display original price after discount \n",
    "\n",
    "print('CHECK THE DISCOUNTED PRICE')\n",
    "product_price = int(input('Enter the product original price :'))\n",
    "\n",
    "if product_price > 1000:\n",
    "    discounted_price = product_price - (product_price*0.2)\n",
    "    print(f'Final price is : {discounted_price}')\n",
    "elif product_price <=1000:\n",
    "    discounted_price = product_price - (product_price*0.3)\n",
    "    print(f'Final price is : {discounted_price}')"
   ]
  },
  {
   "cell_type": "markdown",
   "id": "66fe67ce",
   "metadata": {},
   "source": [
    "SINGLE SUIT STATEMENTS "
   ]
  },
  {
   "cell_type": "code",
   "execution_count": 10,
   "id": "8c501993",
   "metadata": {},
   "outputs": [
    {
     "name": "stdout",
     "output_type": "stream",
     "text": [
      "Enter a number : 44\n",
      "You have chosen an EVEN number\n"
     ]
    }
   ],
   "source": [
    "my_value = int(input('Enter a number : '))\n",
    "if my_value %2 ==0 : print('You have chosen an EVEN number')"
   ]
  },
  {
   "cell_type": "markdown",
   "id": "6f40180a",
   "metadata": {},
   "source": [
    "# LOOPS "
   ]
  },
  {
   "cell_type": "markdown",
   "id": "44df5e15",
   "metadata": {},
   "source": [
    "1) while \n",
    "2) for \n",
    "3) Loop Control (break,continue,pass)"
   ]
  },
  {
   "cell_type": "code",
   "execution_count": 10,
   "id": "35337055",
   "metadata": {},
   "outputs": [
    {
     "name": "stdout",
     "output_type": "stream",
     "text": [
      "Enter Your Age : 45\n",
      " 45 , YOU HAVE TO WORK FOR 15 YEARS\n",
      " 46 , YOU HAVE TO WORK FOR 14 YEARS\n",
      " 47 , YOU HAVE TO WORK FOR 13 YEARS\n",
      " 48 , YOU HAVE TO WORK FOR 12 YEARS\n",
      " 49 , YOU HAVE TO WORK FOR 11 YEARS\n",
      " 50 , YOU HAVE TO WORK FOR 10 YEARS\n",
      " 51 , YOU HAVE TO WORK FOR 9 YEARS\n",
      " 52 , YOU HAVE TO WORK FOR 8 YEARS\n",
      " 53 , YOU HAVE TO WORK FOR 7 YEARS\n",
      " 54 , YOU HAVE TO WORK FOR 6 YEARS\n",
      " 55 , YOU HAVE TO WORK FOR 5 YEARS\n",
      " 56 , YOU HAVE TO WORK FOR 4 YEARS\n",
      " 57 , YOU HAVE TO WORK FOR 3 YEARS\n",
      " 58 , YOU HAVE TO WORK FOR 2 YEARS\n",
      " 59 , YOU HAVE TO WORK FOR 1 YEARS\n",
      "60 , THANKS FOR YOUR SERVICE\n"
     ]
    }
   ],
   "source": [
    "age =int( input('Enter Your Age : ') ) \n",
    "while age < 60 :\n",
    "    print(f' {age} , YOU HAVE TO WORK FOR {60 - age} YEARS')\n",
    "    age = age + 1\n",
    "    \n",
    "else : \n",
    "    print(f'{age} , THANKS FOR YOUR SERVICE')"
   ]
  },
  {
   "cell_type": "code",
   "execution_count": null,
   "id": "2d43e175",
   "metadata": {},
   "outputs": [],
   "source": [
    "balance = int(in)"
   ]
  }
 ],
 "metadata": {
  "kernelspec": {
   "display_name": "Python 3 (ipykernel)",
   "language": "python",
   "name": "python3"
  },
  "language_info": {
   "codemirror_mode": {
    "name": "ipython",
    "version": 3
   },
   "file_extension": ".py",
   "mimetype": "text/x-python",
   "name": "python",
   "nbconvert_exporter": "python",
   "pygments_lexer": "ipython3",
   "version": "3.9.13"
  }
 },
 "nbformat": 4,
 "nbformat_minor": 5
}
